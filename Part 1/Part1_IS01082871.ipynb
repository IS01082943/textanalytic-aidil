{
 "cells": [
  {
   "cell_type": "markdown",
   "id": "bda1dc69",
   "metadata": {},
   "source": [
    "# CISB5123 Text Analytics Project - Part 1\n",
    "**Group Leader ID: IS01082871**\n",
    "\n",
    "## Data Collection & Preprocessing\n",
    "This notebook demonstrates the data cleaning and preprocessing steps for the review dataset from Ford of Montebello."
   ]
  },
  {
   "cell_type": "code",
   "execution_count": 1,
   "id": "5fc07ad8-c727-46f0-8b88-34cc08a1d4f8",
   "metadata": {},
   "outputs": [
    {
     "data": {
      "text/plain": [
       "'C:/Users/HP/Downloads/Part 1/Ford_Reviews_All_Preprocessing_Steps.xlsx'"
      ]
     },
     "execution_count": 1,
     "metadata": {},
     "output_type": "execute_result"
    }
   ],
   "source": [
    "'''\n",
    "Student Name and Student ID's : \n",
    "\n",
    "i) Ahmad Aizat - IS01082871\n",
    "ii) Muhammad Aidil - IS01082943\n",
    "iii) Muhammad Aqhmal - IS01082817\n",
    "iv) Aizat Farhan - IS01083271\n",
    "\n",
    "'''\n",
    "\n",
    "import pandas as pd\n",
    "import re\n",
    "from nltk.stem import PorterStemmer, WordNetLemmatizer\n",
    "\n",
    "# Load the dataset\n",
    "file_path = 'Dataset Ford of Montebello.csv'\n",
    "df = pd.read_csv(file_path)\n",
    "\n",
    "# Drop missing review text\n",
    "df_clean = df.dropna(subset=['text']).copy()\n",
    "\n",
    "# Text cleaning function\n",
    "def clean_text(text):\n",
    "    text = text.lower()\n",
    "    text = re.sub(r'http\\S+', '', text)\n",
    "    text = re.sub(r'[^a-z\\s]', '', text)\n",
    "    text = re.sub(r'\\s+', ' ', text).strip()\n",
    "    return text\n",
    "\n",
    "# Apply cleaning\n",
    "df_clean['cleaned_text'] = df_clean['text'].apply(clean_text)\n",
    "\n",
    "# Tokenization\n",
    "df_clean['tokens'] = df_clean['cleaned_text'].apply(lambda x: re.findall(r'\\b\\w+\\b', x))\n",
    "\n",
    "# Manual stop words list\n",
    "stop_words = set([\n",
    "    'i', 'me', 'my', 'myself', 'we', 'our', 'ours', 'ourselves', 'you', 'your',\n",
    "    'yours', 'yourself', 'yourselves', 'he', 'him', 'his', 'himself', 'she', \n",
    "    'her', 'hers', 'herself', 'it', 'its', 'itself', 'they', 'them', 'their',\n",
    "    'theirs', 'themselves', 'what', 'which', 'who', 'whom', 'this', 'that', \n",
    "    'these', 'those', 'am', 'is', 'are', 'was', 'were', 'be', 'been', 'being',\n",
    "    'have', 'has', 'had', 'having', 'do', 'does', 'did', 'doing', 'a', 'an',\n",
    "    'the', 'and', 'but', 'if', 'or', 'because', 'as', 'until', 'while', 'of',\n",
    "    'at', 'by', 'for', 'with', 'about', 'against', 'between', 'into', 'through',\n",
    "    'during', 'before', 'after', 'above', 'below', 'to', 'from', 'up', 'down',\n",
    "    'in', 'out', 'on', 'off', 'over', 'under', 'again', 'further', 'then',\n",
    "    'once', 'here', 'there', 'when', 'where', 'why', 'how', 'all', 'any',\n",
    "    'both', 'each', 'few', 'more', 'most', 'other', 'some', 'such', 'no',\n",
    "    'nor', 'not', 'only', 'own', 'same', 'so', 'than', 'too', 'very', 'can',\n",
    "    'will', 'just', 'don', 'should', 'now'\n",
    "])\n",
    "df_clean['tokens_no_stopwords'] = df_clean['tokens'].apply(\n",
    "    lambda tokens: [word for word in tokens if word not in stop_words]\n",
    ")\n",
    "\n",
    "# Stemming\n",
    "stemmer = PorterStemmer()\n",
    "df_clean['stemmed_tokens'] = df_clean['tokens_no_stopwords'].apply(\n",
    "    lambda tokens: [stemmer.stem(word) for word in tokens]\n",
    ")\n",
    "\n",
    "# Lemmatization\n",
    "lemmatizer = WordNetLemmatizer()\n",
    "df_clean['lemmatized_tokens'] = df_clean['tokens_no_stopwords'].apply(\n",
    "    lambda tokens: [lemmatizer.lemmatize(word) for word in tokens]\n",
    ")\n",
    "\n",
    "# Save to Excel\n",
    "output_combined_path = \"C:/Users/HP/Downloads/Part 1/Ford_Reviews_All_Preprocessing_Steps.xlsx\"\n",
    "df_clean.to_excel(output_combined_path, index=False)\n",
    "\n",
    "output_combined_path\n"
   ]
  },
  {
   "cell_type": "code",
   "execution_count": null,
   "id": "8b1c9afb-731e-42d6-8b58-e8c5fb58b982",
   "metadata": {},
   "outputs": [],
   "source": []
  }
 ],
 "metadata": {
  "kernelspec": {
   "display_name": "Python 3 (ipykernel)",
   "language": "python",
   "name": "python3"
  },
  "language_info": {
   "codemirror_mode": {
    "name": "ipython",
    "version": 3
   },
   "file_extension": ".py",
   "mimetype": "text/x-python",
   "name": "python",
   "nbconvert_exporter": "python",
   "pygments_lexer": "ipython3",
   "version": "3.12.7"
  }
 },
 "nbformat": 4,
 "nbformat_minor": 5
}
