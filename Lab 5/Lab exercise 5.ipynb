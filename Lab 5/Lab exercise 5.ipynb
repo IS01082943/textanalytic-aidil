{
 "cells": [
  {
   "cell_type": "code",
   "execution_count": 1,
   "id": "bb3e4917-2316-482f-8992-d79b03fa97c9",
   "metadata": {},
   "outputs": [],
   "source": [
    "from collections import Counter #count word occurrences\n",
    "import pandas as pd"
   ]
  },
  {
   "cell_type": "code",
   "execution_count": 2,
   "id": "459ba38f-c9ae-4569-9aca-c48ef8aaf85b",
   "metadata": {},
   "outputs": [],
   "source": [
    "file_path = \"Processed_Reviews.csv\"\n",
    "df = pd.read_csv(file_path)"
   ]
  },
  {
   "cell_type": "code",
   "execution_count": 3,
   "id": "ed403713-36e2-4b7c-b0c0-983750d9bfeb",
   "metadata": {},
   "outputs": [],
   "source": [
    "tokenized_reviews = df['tokenized'].dropna().apply(eval)"
   ]
  },
  {
   "cell_type": "code",
   "execution_count": 4,
   "id": "1e7eddfc-6894-4927-a9fe-7525c61afa80",
   "metadata": {},
   "outputs": [],
   "source": [
    "all_words = [word for review in tokenized_reviews for word in review]\n",
    "unique_words = list(set(all_words))"
   ]
  },
  {
   "cell_type": "code",
   "execution_count": 5,
   "id": "0e9351e4-7ccb-41f0-b63d-584833a4b09c",
   "metadata": {},
   "outputs": [],
   "source": [
    "word_freq = Counter(all_words)\n",
    "sorted_word_freq = dict(sorted(word_freq.items(), key=lambda item: item[1], reverse=True))"
   ]
  },
  {
   "cell_type": "code",
   "execution_count": 6,
   "id": "a3e10122-7c03-4846-837a-1c739d9ec9b5",
   "metadata": {},
   "outputs": [],
   "source": [
    "document_vectors = []\n",
    "for review in tokenized_reviews:\n",
    "    document_vector = [1 if word in review else 0 for word in sorted_word_freq.keys()]\n",
    "    document_vectors.append(document_vector)"
   ]
  },
  {
   "cell_type": "code",
   "execution_count": 7,
   "id": "8808c0b6-d493-4005-8888-bb132532e6f8",
   "metadata": {},
   "outputs": [],
   "source": [
    "doc_vectors_df = pd.DataFrame(document_vectors, columns=sorted_word_freq.keys())"
   ]
  },
  {
   "cell_type": "code",
   "execution_count": 8,
   "id": "2eb3be69-afdb-46ab-a1a0-dc27afc0a16d",
   "metadata": {},
   "outputs": [],
   "source": [
    "doc_vectors_df.to_csv(\"document_vectors.csv\", index=False)"
   ]
  },
  {
   "cell_type": "code",
   "execution_count": 9,
   "id": "bb52ab10-72ea-46b3-80ba-0bc6f252f92c",
   "metadata": {},
   "outputs": [
    {
     "name": "stdout",
     "output_type": "stream",
     "text": [
      "Word Frequency Table:\n",
      "           Word  Frequency\n",
      "0       product          7\n",
      "1       quality          3\n",
      "2         great          2\n",
      "3       amazing          2\n",
      "4          love          2\n",
      "5       awesome          2\n",
      "6          work          2\n",
      "7     perfectly          2\n",
      "8          life          2\n",
      "9        expect          2\n",
      "10       arrive          1\n",
      "11         time          1\n",
      "12    packaging          1\n",
      "13        amaze          1\n",
      "14          buy          1\n",
      "15        phone          1\n",
      "16           hz          1\n",
      "17      display          1\n",
      "18      totally          1\n",
      "19        worth          1\n",
      "20          wow          1\n",
      "21          bit          1\n",
      "22    expensive          1\n",
      "23       laptop          1\n",
      "24         fine          1\n",
      "25        check          1\n",
      "26         full          1\n",
      "27       detail          1\n",
      "28     purchase          1\n",
      "29        happy          1\n",
      "30      battery          1\n",
      "31    excellent          1\n",
      "32       charge          1\n",
      "33        cable          1\n",
      "34        short          1\n",
      "35          can          1\n",
      "36          not          1\n",
      "37      believe          1\n",
      "38         good          1\n",
      "39         fast          1\n",
      "40     delivery          1\n",
      "41       honest          1\n",
      "42         much          1\n",
      "43           oh          1\n",
      "44          god          1\n",
      "45         best          1\n",
      "46         ever          1\n",
      "47          use          1\n",
      "48         shoe          1\n",
      "49  comfortable          1\n",
      "50          fit          1\n",
      "51       nicely          1\n",
      "52          jog          1\n"
     ]
    }
   ],
   "source": [
    "word_freq_df = pd.DataFrame(list(sorted_word_freq.items()), columns=[\"Word\", \"Frequency\"])\n",
    "print(\"Word Frequency Table:\")\n",
    "print(word_freq_df)"
   ]
  },
  {
   "cell_type": "code",
   "execution_count": 10,
   "id": "067790d2-073d-4dae-81ca-cb94e4c7773c",
   "metadata": {},
   "outputs": [],
   "source": [
    "import pandas as pd\n",
    "import math # use for log function\n",
    "from collections import Counter"
   ]
  },
  {
   "cell_type": "code",
   "execution_count": 11,
   "id": "7c4379be-8e74-420c-869a-40d9c26f25bd",
   "metadata": {},
   "outputs": [],
   "source": [
    "file_path = \"Processed_Reviews.csv\"\n",
    "df = pd.read_csv(file_path)"
   ]
  },
  {
   "cell_type": "code",
   "execution_count": 12,
   "id": "2f5d333f-f28f-4294-87c1-6063f4c2ec37",
   "metadata": {},
   "outputs": [],
   "source": [
    "tokenized_reviews = df['tokenized'].dropna().apply(eval)"
   ]
  },
  {
   "cell_type": "code",
   "execution_count": 13,
   "id": "4cbb1aa6-3dd7-4088-84ea-760e2ca524a9",
   "metadata": {},
   "outputs": [],
   "source": [
    "def compute_tf(document):\n",
    "    word_count = Counter(document)\n",
    "    tf = {word: count / len(document) for word, count in word_count.items()}\n",
    "    return tf"
   ]
  },
  {
   "cell_type": "code",
   "execution_count": 14,
   "id": "effccd4f-a09d-43e4-9bca-0c43b8d4996d",
   "metadata": {},
   "outputs": [],
   "source": [
    "def compute_idf(documents):\n",
    "    N = len(documents) # Total number of documents\n",
    "    idf = {}\n",
    "    all_words = set(word for doc in documents for word in doc) # Unique words\n",
    "    for word in all_words:\n",
    "        count = sum(1 for doc in documents if word in doc)\n",
    "        idf[word] = math.log(N / count)\n",
    "    return idf"
   ]
  },
  {
   "cell_type": "code",
   "execution_count": 15,
   "id": "82b24b8e-8eaf-4a13-b877-8235091ac859",
   "metadata": {},
   "outputs": [],
   "source": [
    "def compute_tfidf(document, idf):\n",
    "    tfidf = {}\n",
    "    tf = compute_tf(document) # Get TF values for the document\n",
    "    for word, tf_value in tf.items():\n",
    "        tfidf[word] = tf_value * idf[word] # Multiply TF and IDF\n",
    "    return tfidf"
   ]
  },
  {
   "cell_type": "code",
   "execution_count": 16,
   "id": "d5b63607-dce1-4c2b-be98-8c5c2bd8d2c7",
   "metadata": {},
   "outputs": [],
   "source": [
    "documents = tokenized_reviews.tolist()"
   ]
  },
  {
   "cell_type": "code",
   "execution_count": 17,
   "id": "744469e4-987f-4e11-9ff1-0eb47548f37b",
   "metadata": {},
   "outputs": [],
   "source": [
    "tf_data = [compute_tf(doc) for doc in documents]\n",
    "tf_df = pd.DataFrame(tf_data).fillna(0)\n",
    "tf_df.to_csv(\"tf_scores.csv\", index=False)"
   ]
  },
  {
   "cell_type": "code",
   "execution_count": 18,
   "id": "f73d492d-9ac0-4bb8-8678-9898d1083885",
   "metadata": {},
   "outputs": [],
   "source": [
    "idf = compute_idf(documents)\n",
    "idf_df = pd.DataFrame([idf]).fillna(0)\n",
    "idf_df.to_csv(\"idf_scores.csv\", index=False)"
   ]
  },
  {
   "cell_type": "code",
   "execution_count": 19,
   "id": "29e1521a-2f65-44cb-9605-147d54c37293",
   "metadata": {},
   "outputs": [],
   "source": [
    "tfidf_data = [compute_tfidf(doc, idf) for doc in documents]\n",
    "tfidf_df = pd.DataFrame(tfidf_data).fillna(0)\n",
    "tfidf_df.to_csv(\"tfidf_scores.csv\", index=False)"
   ]
  },
  {
   "cell_type": "code",
   "execution_count": null,
   "id": "70ab2e4a-c484-410d-9191-b3a26f19fe37",
   "metadata": {},
   "outputs": [],
   "source": []
  }
 ],
 "metadata": {
  "kernelspec": {
   "display_name": "Python 3 (ipykernel)",
   "language": "python",
   "name": "python3"
  },
  "language_info": {
   "codemirror_mode": {
    "name": "ipython",
    "version": 3
   },
   "file_extension": ".py",
   "mimetype": "text/x-python",
   "name": "python",
   "nbconvert_exporter": "python",
   "pygments_lexer": "ipython3",
   "version": "3.12.7"
  }
 },
 "nbformat": 4,
 "nbformat_minor": 5
}
